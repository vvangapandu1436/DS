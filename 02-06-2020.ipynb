{
 "cells": [
  {
   "cell_type": "code",
   "execution_count": 1,
   "metadata": {},
   "outputs": [
    {
     "name": "stdout",
     "output_type": "stream",
     "text": [
      "Secret word: horse\n",
      "['?', '?', '?', '?', '?']\n",
      "Lives left: ❤❤❤❤❤❤❤❤❤\n",
      "Guess a letter or the whole word: horse\n",
      "You won! The secret word was horse\n"
     ]
    }
   ],
   "source": [
    "import random\n",
    "\n",
    "def update_clue(guess_letter, secret_word, clue, unknown_letters):\n",
    "    index = 0\n",
    "    while index < len(secret_word):\n",
    "        if guess_letter == secret_word[index]:\n",
    "            clue[index] = guess_letter\n",
    "            unknown_letters = unknown_letters - 1\n",
    "        index = index+1\n",
    "    return unknown_letters\n",
    "\n",
    "lives = 9\n",
    "words = ['pizza', 'fairy', 'teeth', 'shirt','otter', 'plane','light','horse','brush']\n",
    "secret_word = random.choice(words)\n",
    "print(\"Secret word:\", secret_word)\n",
    "clue = list('?????')\n",
    "heart_symbol = u'\\u2764'\n",
    "guessed_word_correctly = False\n",
    "unknown_letters = len(secret_word)\n",
    "\n",
    "while lives > 0:\n",
    "    print(clue)\n",
    "    print('Lives left: ' + (heart_symbol * lives))\n",
    "    guess = input('Guess a letter or the whole word: ')\n",
    "    if guess == secret_word:\n",
    "        guessed_word_correctly = True\n",
    "        break\n",
    "    if guess in secret_word:\n",
    "        unknown_letters = update_clue(guess, secret_word, clue, unknown_letters)\n",
    "    else:\n",
    "        print('Incorrect. You lose a life')\n",
    "        lives = lives - 1\n",
    "    if unknown_letters == 0:\n",
    "        guessed_word_correctly = True\n",
    "        break\n",
    "if guessed_word_correctly:\n",
    "    print('You won! The secret word was ' + secret_word)\n",
    "else:\n",
    "    print('You lost! The secret word was ' + secret_word)"
   ]
  },
  {
   "cell_type": "code",
   "execution_count": null,
   "metadata": {},
   "outputs": [],
   "source": []
  }
 ],
 "metadata": {
  "kernelspec": {
   "display_name": "Python 3",
   "language": "python",
   "name": "python3"
  },
  "language_info": {
   "codemirror_mode": {
    "name": "ipython",
    "version": 3
   },
   "file_extension": ".py",
   "mimetype": "text/x-python",
   "name": "python",
   "nbconvert_exporter": "python",
   "pygments_lexer": "ipython3",
   "version": "3.7.6"
  }
 },
 "nbformat": 4,
 "nbformat_minor": 4
}

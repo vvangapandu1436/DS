{
  "nbformat": 4,
  "nbformat_minor": 0,
  "metadata": {
    "colab": {
      "name": "ASSIGNMENT 2",
      "provenance": [],
      "authorship_tag": "ABX9TyMCISUMebAHVj5TlKTlVadi",
      "include_colab_link": true
    },
    "kernelspec": {
      "name": "python3",
      "display_name": "Python 3"
    }
  },
  "cells": [
    {
      "cell_type": "markdown",
      "metadata": {
        "id": "view-in-github",
        "colab_type": "text"
      },
      "source": [
        "<a href=\"https://colab.research.google.com/github/vvangapandu1436/DS/blob/master/ASSIGNMENT_2.ipynb\" target=\"_parent\"><img src=\"https://colab.research.google.com/assets/colab-badge.svg\" alt=\"Open In Colab\"/></a>"
      ]
    },
    {
      "cell_type": "code",
      "metadata": {
        "id": "G2R23SGNCEo0",
        "colab_type": "code",
        "colab": {}
      },
      "source": [
        "##Fibonacci series\n",
        "n = int(input(\"enter the value of 'n': \"))\n",
        "a = 0\n",
        "b = 1\n",
        "sum = 0\n",
        "count = 1\n",
        "print(\"Fibonacci Series: \",end = \" \")\n",
        "while (count <= n):\n",
        "  print(sum, end = \" \")\n",
        "  count += 1\n",
        "  a = b\n",
        "  b = sum\n",
        "  sum = a + b "
      ],
      "execution_count": 0,
      "outputs": []
    },
    {
      "cell_type": "code",
      "metadata": {
        "id": "2MjV0v04CRH5",
        "colab_type": "code",
        "colab": {}
      },
      "source": [
        "##Quadratic Exp\n",
        "import cmath\n",
        "a = int(input(\"enter the value of 'a': \"))\n",
        "b = int(input(\"enter the value of 'b': \"))\n",
        "c = int(input(\"enter the value of 'c': \"))\n",
        "d = (b ** 2) - (4*a*c)\n",
        "sol1 = (-b-cmath.sqrt(d))/(2*a)\n",
        "sol2 = (-b+cmath.sqrt(d))/(2*a)\n",
        "print('The solution are {0} and {1}'.format(sol1,sol2))\n"
      ],
      "execution_count": 0,
      "outputs": []
    },
    {
      "cell_type": "code",
      "metadata": {
        "id": "U_JbbxwPCXry",
        "colab_type": "code",
        "colab": {}
      },
      "source": [
        "#Pattern using for loop\n",
        "rows = int(input(\"Enter number of rows \"))\n",
        "for i in range(0, rows):\n",
        "    for j in range(0, i + 1):\n",
        "        print(\"*\", end=' ')\n",
        " \n",
        "    print(\"\\r\")num = 7\n",
        "\n",
        "\n",
        "sec prog\n",
        "for k in range(1 , 11): \n",
        "    print(num , 'X', k , '=' ,num * k)"
      ],
      "execution_count": 0,
      "outputs": []
    },
    {
      "cell_type": "code",
      "metadata": {
        "id": "p-epddusD4yz",
        "colab_type": "code",
        "colab": {}
      },
      "source": [
        "##decimal to binary\n",
        "def decimalToBinary(num):\n",
        "    if num > 1:\n",
        "        decimalToBinary(num // 2)\n",
        "    print(num % 2, end = '')\n",
        "number = int(input(\"Enter the decimal number: \"))\n",
        "\n",
        "#main() function\n"
      ],
      "execution_count": 0,
      "outputs": []
    },
    {
      "cell_type": "code",
      "metadata": {
        "id": "Ac7h4o-6EMdR",
        "colab_type": "code",
        "colab": {}
      },
      "source": [
        "##multiplication\n",
        "import cmath\n",
        "a=int(input())\n",
        "b=int(input())\n",
        "c=int(input())\n",
        "d= (b**2) - (4*a*c)\n",
        "sol1 = (-b-cmath.sqrt(d))/2*a\n",
        "sol2 = (-b+cmath.sqrt(d))/2*a\n",
        "print(\"the soln are {0} and {1}\".format(sol1,sol2))"
      ],
      "execution_count": 0,
      "outputs": []
    }
  ]
}